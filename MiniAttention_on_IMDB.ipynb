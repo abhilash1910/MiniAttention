{
  "nbformat": 4,
  "nbformat_minor": 0,
  "metadata": {
    "colab": {
      "name": "MiniAttention on IMDB.ipynb",
      "provenance": [],
      "collapsed_sections": []
    },
    "kernelspec": {
      "name": "python3",
      "display_name": "Python 3"
    }
  },
  "cells": [
    {
      "cell_type": "code",
      "metadata": {
        "id": "CaaE-xlrQKeH",
        "colab_type": "code",
        "colab": {}
      },
      "source": [
        ""
      ],
      "execution_count": 8,
      "outputs": []
    },
    {
      "cell_type": "code",
      "metadata": {
        "id": "GYMnpsuESHX8",
        "colab_type": "code",
        "colab": {
          "base_uri": "https://localhost:8080/",
          "height": 85
        },
        "outputId": "4b160009-b6ea-44f8-c703-cce4001758fa"
      },
      "source": [
        "from tensorflow import keras\n",
        "max_features=100000\n",
        "(train_x, train_y), (test_x, test_y) = keras.datasets.imdb.load_data(\n",
        "    num_words=max_features\n",
        ")\n",
        "print(len(train_x), \"Training sequences\")\n",
        "print(len(test_x), \"Validation sequences\")"
      ],
      "execution_count": 2,
      "outputs": [
        {
          "output_type": "stream",
          "text": [
            "Downloading data from https://storage.googleapis.com/tensorflow/tf-keras-datasets/imdb.npz\n",
            "17465344/17464789 [==============================] - 0s 0us/step\n",
            "25000 Training sequences\n",
            "25000 Validation sequences\n"
          ],
          "name": "stdout"
        }
      ]
    },
    {
      "cell_type": "code",
      "metadata": {
        "id": "sG9h9o9IWV9m",
        "colab_type": "code",
        "colab": {
          "base_uri": "https://localhost:8080/",
          "height": 34
        },
        "outputId": "260843b3-faf1-4e3a-9614-e210761d4bc7"
      },
      "source": [
        "print(train_y[0])\n",
        "maxlen=100\n",
        "train_x = keras.preprocessing.sequence.pad_sequences(train_x, maxlen=maxlen)\n",
        "test_x = keras.preprocessing.sequence.pad_sequences(test_x, maxlen=maxlen)\n"
      ],
      "execution_count": 3,
      "outputs": [
        {
          "output_type": "stream",
          "text": [
            "1\n"
          ],
          "name": "stdout"
        }
      ]
    },
    {
      "cell_type": "code",
      "metadata": {
        "id": "hb7imVDWZdBb",
        "colab_type": "code",
        "colab": {}
      },
      "source": [
        ""
      ],
      "execution_count": null,
      "outputs": []
    },
    {
      "cell_type": "code",
      "metadata": {
        "id": "kyJPCtScyAIf",
        "colab_type": "code",
        "colab": {
          "base_uri": "https://localhost:8080/",
          "height": 904
        },
        "outputId": "735a12ec-b94e-44b9-faab-73b0992d04f7"
      },
      "source": [
        "!pip install MiniAttention==0.1"
      ],
      "execution_count": 1,
      "outputs": [
        {
          "output_type": "stream",
          "text": [
            "Collecting MiniAttention==0.1\n",
            "  Downloading https://files.pythonhosted.org/packages/5c/18/8ac63d93963956a91654d7dad9b740b8d7af91463a39e93e8d258ccb3441/MiniAttention-0.1.tar.gz\n",
            "Requirement already satisfied: numpy in /usr/local/lib/python3.6/dist-packages (from MiniAttention==0.1) (1.18.5)\n",
            "Requirement already satisfied: keras in /usr/local/lib/python3.6/dist-packages (from MiniAttention==0.1) (2.4.3)\n",
            "Requirement already satisfied: tensorflow in /usr/local/lib/python3.6/dist-packages (from MiniAttention==0.1) (2.3.0)\n",
            "Requirement already satisfied: pandas in /usr/local/lib/python3.6/dist-packages (from MiniAttention==0.1) (1.0.5)\n",
            "Requirement already satisfied: scipy>=0.14 in /usr/local/lib/python3.6/dist-packages (from keras->MiniAttention==0.1) (1.4.1)\n",
            "Requirement already satisfied: h5py in /usr/local/lib/python3.6/dist-packages (from keras->MiniAttention==0.1) (2.10.0)\n",
            "Requirement already satisfied: pyyaml in /usr/local/lib/python3.6/dist-packages (from keras->MiniAttention==0.1) (3.13)\n",
            "Requirement already satisfied: wrapt>=1.11.1 in /usr/local/lib/python3.6/dist-packages (from tensorflow->MiniAttention==0.1) (1.12.1)\n",
            "Requirement already satisfied: absl-py>=0.7.0 in /usr/local/lib/python3.6/dist-packages (from tensorflow->MiniAttention==0.1) (0.9.0)\n",
            "Requirement already satisfied: protobuf>=3.9.2 in /usr/local/lib/python3.6/dist-packages (from tensorflow->MiniAttention==0.1) (3.12.4)\n",
            "Requirement already satisfied: tensorflow-estimator<2.4.0,>=2.3.0 in /usr/local/lib/python3.6/dist-packages (from tensorflow->MiniAttention==0.1) (2.3.0)\n",
            "Requirement already satisfied: wheel>=0.26 in /usr/local/lib/python3.6/dist-packages (from tensorflow->MiniAttention==0.1) (0.34.2)\n",
            "Requirement already satisfied: tensorboard<3,>=2.3.0 in /usr/local/lib/python3.6/dist-packages (from tensorflow->MiniAttention==0.1) (2.3.0)\n",
            "Requirement already satisfied: gast==0.3.3 in /usr/local/lib/python3.6/dist-packages (from tensorflow->MiniAttention==0.1) (0.3.3)\n",
            "Requirement already satisfied: google-pasta>=0.1.8 in /usr/local/lib/python3.6/dist-packages (from tensorflow->MiniAttention==0.1) (0.2.0)\n",
            "Requirement already satisfied: opt-einsum>=2.3.2 in /usr/local/lib/python3.6/dist-packages (from tensorflow->MiniAttention==0.1) (3.3.0)\n",
            "Requirement already satisfied: six>=1.12.0 in /usr/local/lib/python3.6/dist-packages (from tensorflow->MiniAttention==0.1) (1.15.0)\n",
            "Requirement already satisfied: keras-preprocessing<1.2,>=1.1.1 in /usr/local/lib/python3.6/dist-packages (from tensorflow->MiniAttention==0.1) (1.1.2)\n",
            "Requirement already satisfied: termcolor>=1.1.0 in /usr/local/lib/python3.6/dist-packages (from tensorflow->MiniAttention==0.1) (1.1.0)\n",
            "Requirement already satisfied: astunparse==1.6.3 in /usr/local/lib/python3.6/dist-packages (from tensorflow->MiniAttention==0.1) (1.6.3)\n",
            "Requirement already satisfied: grpcio>=1.8.6 in /usr/local/lib/python3.6/dist-packages (from tensorflow->MiniAttention==0.1) (1.30.0)\n",
            "Requirement already satisfied: pytz>=2017.2 in /usr/local/lib/python3.6/dist-packages (from pandas->MiniAttention==0.1) (2018.9)\n",
            "Requirement already satisfied: python-dateutil>=2.6.1 in /usr/local/lib/python3.6/dist-packages (from pandas->MiniAttention==0.1) (2.8.1)\n",
            "Requirement already satisfied: setuptools in /usr/local/lib/python3.6/dist-packages (from protobuf>=3.9.2->tensorflow->MiniAttention==0.1) (49.2.0)\n",
            "Requirement already satisfied: tensorboard-plugin-wit>=1.6.0 in /usr/local/lib/python3.6/dist-packages (from tensorboard<3,>=2.3.0->tensorflow->MiniAttention==0.1) (1.7.0)\n",
            "Requirement already satisfied: markdown>=2.6.8 in /usr/local/lib/python3.6/dist-packages (from tensorboard<3,>=2.3.0->tensorflow->MiniAttention==0.1) (3.2.2)\n",
            "Requirement already satisfied: requests<3,>=2.21.0 in /usr/local/lib/python3.6/dist-packages (from tensorboard<3,>=2.3.0->tensorflow->MiniAttention==0.1) (2.23.0)\n",
            "Requirement already satisfied: google-auth<2,>=1.6.3 in /usr/local/lib/python3.6/dist-packages (from tensorboard<3,>=2.3.0->tensorflow->MiniAttention==0.1) (1.17.2)\n",
            "Requirement already satisfied: werkzeug>=0.11.15 in /usr/local/lib/python3.6/dist-packages (from tensorboard<3,>=2.3.0->tensorflow->MiniAttention==0.1) (1.0.1)\n",
            "Requirement already satisfied: google-auth-oauthlib<0.5,>=0.4.1 in /usr/local/lib/python3.6/dist-packages (from tensorboard<3,>=2.3.0->tensorflow->MiniAttention==0.1) (0.4.1)\n",
            "Requirement already satisfied: importlib-metadata; python_version < \"3.8\" in /usr/local/lib/python3.6/dist-packages (from markdown>=2.6.8->tensorboard<3,>=2.3.0->tensorflow->MiniAttention==0.1) (1.7.0)\n",
            "Requirement already satisfied: idna<3,>=2.5 in /usr/local/lib/python3.6/dist-packages (from requests<3,>=2.21.0->tensorboard<3,>=2.3.0->tensorflow->MiniAttention==0.1) (2.10)\n",
            "Requirement already satisfied: certifi>=2017.4.17 in /usr/local/lib/python3.6/dist-packages (from requests<3,>=2.21.0->tensorboard<3,>=2.3.0->tensorflow->MiniAttention==0.1) (2020.6.20)\n",
            "Requirement already satisfied: urllib3!=1.25.0,!=1.25.1,<1.26,>=1.21.1 in /usr/local/lib/python3.6/dist-packages (from requests<3,>=2.21.0->tensorboard<3,>=2.3.0->tensorflow->MiniAttention==0.1) (1.24.3)\n",
            "Requirement already satisfied: chardet<4,>=3.0.2 in /usr/local/lib/python3.6/dist-packages (from requests<3,>=2.21.0->tensorboard<3,>=2.3.0->tensorflow->MiniAttention==0.1) (3.0.4)\n",
            "Requirement already satisfied: cachetools<5.0,>=2.0.0 in /usr/local/lib/python3.6/dist-packages (from google-auth<2,>=1.6.3->tensorboard<3,>=2.3.0->tensorflow->MiniAttention==0.1) (4.1.1)\n",
            "Requirement already satisfied: pyasn1-modules>=0.2.1 in /usr/local/lib/python3.6/dist-packages (from google-auth<2,>=1.6.3->tensorboard<3,>=2.3.0->tensorflow->MiniAttention==0.1) (0.2.8)\n",
            "Requirement already satisfied: rsa<5,>=3.1.4; python_version >= \"3\" in /usr/local/lib/python3.6/dist-packages (from google-auth<2,>=1.6.3->tensorboard<3,>=2.3.0->tensorflow->MiniAttention==0.1) (4.6)\n",
            "Requirement already satisfied: requests-oauthlib>=0.7.0 in /usr/local/lib/python3.6/dist-packages (from google-auth-oauthlib<0.5,>=0.4.1->tensorboard<3,>=2.3.0->tensorflow->MiniAttention==0.1) (1.3.0)\n",
            "Requirement already satisfied: zipp>=0.5 in /usr/local/lib/python3.6/dist-packages (from importlib-metadata; python_version < \"3.8\"->markdown>=2.6.8->tensorboard<3,>=2.3.0->tensorflow->MiniAttention==0.1) (3.1.0)\n",
            "Requirement already satisfied: pyasn1<0.5.0,>=0.4.6 in /usr/local/lib/python3.6/dist-packages (from pyasn1-modules>=0.2.1->google-auth<2,>=1.6.3->tensorboard<3,>=2.3.0->tensorflow->MiniAttention==0.1) (0.4.8)\n",
            "Requirement already satisfied: oauthlib>=3.0.0 in /usr/local/lib/python3.6/dist-packages (from requests-oauthlib>=0.7.0->google-auth-oauthlib<0.5,>=0.4.1->tensorboard<3,>=2.3.0->tensorflow->MiniAttention==0.1) (3.1.0)\n",
            "Building wheels for collected packages: MiniAttention\n",
            "  Building wheel for MiniAttention (setup.py) ... \u001b[?25l\u001b[?25hdone\n",
            "  Created wheel for MiniAttention: filename=MiniAttention-0.1-cp36-none-any.whl size=4199 sha256=ab4e5b1f6910c884dbac080d7fea01596a3294e029ba96239bfb84808d1abe37\n",
            "  Stored in directory: /root/.cache/pip/wheels/f0/0e/5b/919e3e6aef2737499fd02a38de719c62eb177d334d7f71df48\n",
            "Successfully built MiniAttention\n",
            "Installing collected packages: MiniAttention\n",
            "Successfully installed MiniAttention-0.1\n"
          ],
          "name": "stdout"
        }
      ]
    },
    {
      "cell_type": "code",
      "metadata": {
        "id": "jRHwOTn-z38r",
        "colab_type": "code",
        "colab": {
          "base_uri": "https://localhost:8080/",
          "height": 615
        },
        "outputId": "b65bd7cf-bfbd-4d6b-ba46-ace9dd423a02"
      },
      "source": [
        "import MiniAttention.MiniAttention as ma\n",
        "import numpy as np\n",
        "import pandas as pd\n",
        "import tensorflow as tf\n",
        "from tensorflow import keras\n",
        "from keras import backend as k\n",
        "from keras.layers import LSTM,Dense,Flatten,Bidirectional\n",
        "from keras.activations import softmax,relu,elu,sigmoid\n",
        "from keras.optimizers import Adagrad\n",
        "from keras.initializers import glorot_uniform   \n",
        "from keras.regularizers import l2\n",
        "from keras.constraints import min_max_norm\n",
        "from keras.layers import Embedding,Input\n",
        "from keras.preprocessing.text import Tokenizer\n",
        "from keras.preprocessing.sequence import pad_sequences\n",
        "from keras.layers import Layer\n",
        "\n",
        "\n",
        "def network(inp_shape,max_features,out_shape,train_x,train_y,test_x,test_y):\n",
        "    #embedding_map=create_glove_embedding(train_x)\n",
        "    #emb_mat,word_idx,emb_dim=embedding_preprocess(embedding_map,max_features,inp_shape,train_x,train_y,test_x,test_y)\n",
        "    inp=Input(shape=(inp_shape,))\n",
        "    #freeze emb weights\n",
        "    #z=tf.keras.layers.Embedding(word_idx, emb_dim, weights=[emb_mat], trainable=False)(inp)\n",
        "    z=Embedding(max_features,256)(inp)\n",
        "    \n",
        "    z=ma.MiniAttentionBlock(keras.initializers.he_uniform,None,None,keras.regularizers.L2(l2=0.02),None,None,None,None,None)(z)\n",
        "    \n",
        "    z=tf.keras.layers.Bidirectional(LSTM(128,recurrent_activation=\"relu\",return_sequences=True))(z)\n",
        "    z=tf.keras.layers.Bidirectional(LSTM(64,recurrent_activation=\"relu\",return_sequences=True))(z)\n",
        "    z=ma.MiniAttentionBlock(keras.initializers.he_uniform,None,None,keras.regularizers.L2(l2=0.02),None,None,None,None,None)(z)\n",
        "    z=keras.layers.Dense(64,activation=\"relu\")(z)\n",
        "    z=keras.layers.Dense(64,activation=\"relu\")(z)\n",
        "    z=keras.layers.Dense(1,activation=\"sigmoid\")(z)\n",
        "    model=keras.models.Model(inputs=inp,outputs=z)\n",
        "    model.compile(loss=\"binary_crossentropy\",metrics=['accuracy'],optimizer=keras.optimizers.Adagrad(learning_rate=1e-3))\n",
        "    model.summary()\n",
        "    return model\n",
        "max_features=100000\n",
        "emb_size=300\n",
        "inp_shape=72\n",
        "out_shape=1\n",
        "maxlen=100\n",
        "model=network(inp_shape,max_features,out_shape,train_x,train_y,test_x,test_y)  \n",
        "model.fit(train_x,train_y,epochs=2,batch_size=16,verbose=1,validation_data=(test_x,test_y)) \n",
        "\n"
      ],
      "execution_count": 8,
      "outputs": [
        {
          "output_type": "stream",
          "text": [
            "Model: \"functional_1\"\n",
            "_________________________________________________________________\n",
            "Layer (type)                 Output Shape              Param #   \n",
            "=================================================================\n",
            "input_4 (InputLayer)         [(None, 72)]              0         \n",
            "_________________________________________________________________\n",
            "embedding_3 (Embedding)      (None, 72, 256)           25600000  \n",
            "_________________________________________________________________\n",
            "mini_attention_block_1 (Mini (None, 72, 256)           0         \n",
            "_________________________________________________________________\n",
            "bidirectional_2 (Bidirection (None, 72, 256)           394240    \n",
            "_________________________________________________________________\n",
            "bidirectional_3 (Bidirection (None, 72, 128)           164352    \n",
            "_________________________________________________________________\n",
            "mini_attention_block_2 (Mini (None, 72, 128)           0         \n",
            "_________________________________________________________________\n",
            "dense (Dense)                (None, 72, 64)            8256      \n",
            "_________________________________________________________________\n",
            "dense_1 (Dense)              (None, 72, 64)            4160      \n",
            "_________________________________________________________________\n",
            "dense_2 (Dense)              (None, 72, 1)             65        \n",
            "=================================================================\n",
            "Total params: 26,171,073\n",
            "Trainable params: 26,171,073\n",
            "Non-trainable params: 0\n",
            "_________________________________________________________________\n",
            "Epoch 1/2\n",
            "WARNING:tensorflow:Model was constructed with shape (None, 72) for input Tensor(\"input_4:0\", shape=(None, 72), dtype=float32), but it was called on an input with incompatible shape (None, 100).\n",
            "WARNING:tensorflow:Model was constructed with shape (None, 72) for input Tensor(\"input_4:0\", shape=(None, 72), dtype=float32), but it was called on an input with incompatible shape (None, 100).\n",
            "1563/1563 [==============================] - ETA: 0s - loss: 0.6932 - accuracy: 0.4998WARNING:tensorflow:Model was constructed with shape (None, 72) for input Tensor(\"input_4:0\", shape=(None, 72), dtype=float32), but it was called on an input with incompatible shape (None, 100).\n",
            "1563/1563 [==============================] - 876s 560ms/step - loss: 0.6932 - accuracy: 0.4998 - val_loss: 0.6931 - val_accuracy: 0.5000\n",
            "Epoch 2/2\n",
            "1563/1563 [==============================] - 871s 557ms/step - loss: 0.6932 - accuracy: 0.5000 - val_loss: 0.6931 - val_accuracy: 0.5000\n"
          ],
          "name": "stdout"
        },
        {
          "output_type": "execute_result",
          "data": {
            "text/plain": [
              "<tensorflow.python.keras.callbacks.History at 0x7fb53649b7f0>"
            ]
          },
          "metadata": {
            "tags": []
          },
          "execution_count": 8
        }
      ]
    }
  ]
}